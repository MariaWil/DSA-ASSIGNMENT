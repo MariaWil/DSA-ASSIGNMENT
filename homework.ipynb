{
  "nbformat": 4,
  "nbformat_minor": 0,
  "metadata": {
    "colab": {
      "provenance": []
    },
    "kernelspec": {
      "name": "python3",
      "display_name": "Python 3"
    },
    "language_info": {
      "name": "python"
    }
  },
  "cells": [
    {
      "cell_type": "markdown",
      "source": [
        "AREA OF RECTANGLE"
      ],
      "metadata": {
        "id": "fFAYOljAwAVV"
      }
    },
    {
      "cell_type": "code",
      "execution_count": null,
      "metadata": {
        "id": "fUX7YrMgrUOT"
      },
      "outputs": [],
      "source": [
        "a=int(input(\"enter the 1 no\"))\n",
        "b=int(input(\"enter the 2 no\"))\n",
        "s=a*b\n",
        "print(s)"
      ]
    },
    {
      "cell_type": "markdown",
      "source": [
        "SUM OF 2 NUMBERS"
      ],
      "metadata": {
        "id": "a9K9b_DiwLvD"
      }
    },
    {
      "cell_type": "code",
      "source": [
        "a=int(input(\"enter the 1 no\"))\n",
        "b=int(input(\"enter the 2 no\"))\n",
        "s=a+b\n",
        "print(s)"
      ],
      "metadata": {
        "id": "65q_DMoCrYei"
      },
      "execution_count": null,
      "outputs": []
    },
    {
      "cell_type": "markdown",
      "source": [
        "DIFFERENCE OF 2 NUMBERS"
      ],
      "metadata": {
        "id": "bFY1N_M0wS81"
      }
    },
    {
      "cell_type": "code",
      "source": [
        "a=int(input(\"enter the 1 no\"))\n",
        "b=int(input(\"enter the 2 no\"))\n",
        "s=a-b\n",
        "print(s)"
      ],
      "metadata": {
        "id": "NTID3UHurgZ-"
      },
      "execution_count": null,
      "outputs": []
    },
    {
      "cell_type": "markdown",
      "source": [
        "QUOTIENT OF 2 NUMBERS"
      ],
      "metadata": {
        "id": "DqP49RMewXer"
      }
    },
    {
      "cell_type": "code",
      "source": [
        "a=int(input(\"enter the 1 no\"))\n",
        "b=int(input(\"enter the 2 no\"))\n",
        "s=a/b\n",
        "print(s)"
      ],
      "metadata": {
        "id": "JP04XPY9rnK5"
      },
      "execution_count": null,
      "outputs": []
    },
    {
      "cell_type": "markdown",
      "source": [
        "PRODUCT OF 2 NUMBERS"
      ],
      "metadata": {
        "id": "cl1Ik57wwcXp"
      }
    },
    {
      "cell_type": "code",
      "source": [
        "a=int(input(\"enter the 1 no\"))\n",
        "b=int(input(\"enter the 2 no\"))\n",
        "s=a*b\n",
        "print(s)"
      ],
      "metadata": {
        "id": "pqKGEhQ0rsrq"
      },
      "execution_count": null,
      "outputs": []
    },
    {
      "cell_type": "markdown",
      "source": [
        "WHETHER THE NUMBER IS +VE,-VE,OR ZERO"
      ],
      "metadata": {
        "id": "HU_jfjiBwfay"
      }
    },
    {
      "cell_type": "code",
      "source": [
        "number=int(input(\"enter the number\"))\n",
        "if(number>0):\n",
        "  print(\"number is positive\")\n",
        "elif(number<0):\n",
        "  print(\"number is negative\")\n",
        "else:\n",
        "  print(\"number is zero\")\n"
      ],
      "metadata": {
        "id": "curuNnQzrwer",
        "colab": {
          "base_uri": "https://localhost:8080/"
        },
        "outputId": "6eadc003-e2cc-4211-a9d2-62d0a4d8f31b"
      },
      "execution_count": 5,
      "outputs": [
        {
          "output_type": "stream",
          "name": "stdout",
          "text": [
            "enter the number-5\n",
            "number is negative\n"
          ]
        }
      ]
    },
    {
      "cell_type": "markdown",
      "source": [
        "PRINT GRADE ACCORDING TO MARK"
      ],
      "metadata": {
        "id": "83FchDEAwnqK"
      }
    },
    {
      "cell_type": "code",
      "source": [
        "mark=float(input(\"enter the mark\"))\n",
        "if(mark>=90 and mark<=100):\n",
        "  print(\"A grade\")\n",
        "elif(mark>=80):\n",
        "  print(\"B grade\")\n",
        "elif(mark>=70):\n",
        "  print(\"C grade\")\n",
        "elif(mark>=60):\n",
        "  print(\"D grade\")\n",
        "elif(mark>=0):\n",
        "  print(\"F grade\")\n",
        "else:\n",
        "  print(\"invalid\")"
      ],
      "metadata": {
        "id": "q4v9CePYr0rd",
        "colab": {
          "base_uri": "https://localhost:8080/"
        },
        "outputId": "3d1ac2c3-b6d3-4ffb-f813-4aea53ba1cff"
      },
      "execution_count": 9,
      "outputs": [
        {
          "output_type": "stream",
          "name": "stdout",
          "text": [
            "enter the mark5\n",
            "F grade\n"
          ]
        }
      ]
    },
    {
      "cell_type": "markdown",
      "source": [
        "PRINT NUMBERS FROM 10 TO 0"
      ],
      "metadata": {
        "id": "72oEdX8twtb3"
      }
    },
    {
      "cell_type": "code",
      "source": [
        "for n in range(10,0,-1):\n",
        "  print(n)"
      ],
      "metadata": {
        "id": "QVwr-QCQr4HP",
        "colab": {
          "base_uri": "https://localhost:8080/"
        },
        "outputId": "62300d6e-4eee-49ea-83a2-fa5d6e7d65c1"
      },
      "execution_count": 10,
      "outputs": [
        {
          "output_type": "stream",
          "name": "stdout",
          "text": [
            "10\n",
            "9\n",
            "8\n",
            "7\n",
            "6\n",
            "5\n",
            "4\n",
            "3\n",
            "2\n",
            "1\n"
          ]
        }
      ]
    },
    {
      "cell_type": "markdown",
      "source": [
        "PRINT EVEN NUMBERSFROM 0 TO 20"
      ],
      "metadata": {
        "id": "f0GHosdUwycK"
      }
    },
    {
      "cell_type": "code",
      "source": [
        "for n in range(2,22,2):\n",
        "  print(n)"
      ],
      "metadata": {
        "id": "Tt7ye9K5sDIg",
        "colab": {
          "base_uri": "https://localhost:8080/"
        },
        "outputId": "9ba1575d-c535-4cc8-d72a-ef7dd96ea5b4"
      },
      "execution_count": 11,
      "outputs": [
        {
          "output_type": "stream",
          "name": "stdout",
          "text": [
            "2\n",
            "4\n",
            "6\n",
            "8\n",
            "10\n",
            "12\n",
            "14\n",
            "16\n",
            "18\n",
            "20\n"
          ]
        }
      ]
    },
    {
      "cell_type": "markdown",
      "source": [
        "PRINT MULTIPLICATION TABLE OF SPECIFIC NUMBER"
      ],
      "metadata": {
        "id": "R1fD8FSvw4J2"
      }
    },
    {
      "cell_type": "code",
      "source": [
        "num=int(input(\"enter the number\"))\n",
        "for n in range(1,11):\n",
        "  print(num*n)"
      ],
      "metadata": {
        "id": "aPYUOYKitTxn",
        "colab": {
          "base_uri": "https://localhost:8080/"
        },
        "outputId": "d8f05532-1407-4daf-9795-1ad79bcad639"
      },
      "execution_count": 12,
      "outputs": [
        {
          "output_type": "stream",
          "name": "stdout",
          "text": [
            "enter the number3\n",
            "3\n",
            "6\n",
            "9\n",
            "12\n",
            "15\n",
            "18\n",
            "21\n",
            "24\n",
            "27\n",
            "30\n"
          ]
        }
      ]
    },
    {
      "cell_type": "markdown",
      "source": [
        "CONVERSION CELSUIS TO FEHRENHEIT AND VICEVERSA"
      ],
      "metadata": {
        "id": "si7SGD_j098w"
      }
    },
    {
      "cell_type": "code",
      "source": [
        "fer=float(input(\"enter the number\"))\n",
        "cel=(fer-32)*5/9\n",
        "print(cel)"
      ],
      "metadata": {
        "id": "aJQ8jElx1LFN",
        "colab": {
          "base_uri": "https://localhost:8080/"
        },
        "outputId": "76ba4f60-9c44-442b-aa8f-0b8bbd97ec1a"
      },
      "execution_count": 13,
      "outputs": [
        {
          "output_type": "stream",
          "name": "stdout",
          "text": [
            "enter the number12\n",
            "-11.11111111111111\n"
          ]
        }
      ]
    },
    {
      "cell_type": "code",
      "source": [
        "fer=float(input(\"enter the number\"))\n",
        "fer=(cel*9/5)+32\n",
        "print(fer)"
      ],
      "metadata": {
        "id": "2VIFNATg2DEf",
        "colab": {
          "base_uri": "https://localhost:8080/"
        },
        "outputId": "30b62f96-fd1e-4198-a300-0ee3368320c0"
      },
      "execution_count": 14,
      "outputs": [
        {
          "output_type": "stream",
          "name": "stdout",
          "text": [
            "enter the number-11\n",
            "12.0\n"
          ]
        }
      ]
    },
    {
      "cell_type": "markdown",
      "source": [
        "LEAP YEAR"
      ],
      "metadata": {
        "id": "Am1Wc1vn1SGZ"
      }
    },
    {
      "cell_type": "code",
      "source": [
        "y=int(input(\"enter the year\"))\n",
        "if(y%4==0 and y%100!=0):\n",
        "  print(\"it is a leap year\")\n",
        "elif(y%400==0):\n",
        "  print(\"it is a leap year\")\n",
        "else:\n",
        "    print(\"it is not a leap year\")"
      ],
      "metadata": {
        "id": "gBHdMGXA7OoW",
        "colab": {
          "base_uri": "https://localhost:8080/"
        },
        "outputId": "4d8da221-5735-4f80-8af5-e55f917cf452"
      },
      "execution_count": 23,
      "outputs": [
        {
          "output_type": "stream",
          "name": "stdout",
          "text": [
            "enter the year2023\n",
            "it is not a leap year\n"
          ]
        }
      ]
    },
    {
      "cell_type": "code",
      "source": [],
      "metadata": {
        "id": "o56Yefc9HiVl"
      },
      "execution_count": null,
      "outputs": []
    }
  ]
}