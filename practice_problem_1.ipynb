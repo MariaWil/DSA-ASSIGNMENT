{
  "nbformat": 4,
  "nbformat_minor": 0,
  "metadata": {
    "colab": {
      "provenance": []
    },
    "kernelspec": {
      "name": "python3",
      "display_name": "Python 3"
    },
    "language_info": {
      "name": "python"
    }
  },
  "cells": [
    {
      "cell_type": "markdown",
      "source": [
        "PROGRAM TO FIND THE SUM OF 2 NUMBERS"
      ],
      "metadata": {
        "id": "Y1SgboO_05Yw"
      }
    },
    {
      "cell_type": "code",
      "execution_count": 3,
      "metadata": {
        "colab": {
          "base_uri": "https://localhost:8080/"
        },
        "id": "T0x-4eFDwiJc",
        "outputId": "60877565-dad9-4668-8b49-db5d437f12c8"
      },
      "outputs": [
        {
          "output_type": "stream",
          "name": "stdout",
          "text": [
            "enter 1st number4\n",
            "enter 2nd number6\n",
            "10\n"
          ]
        }
      ],
      "source": [
        "a=int(input(\"enter 1st number\"))\n",
        "b=int(input(\"enter 2nd number\"))\n",
        "sum=a+b\n",
        "print(sum)"
      ]
    },
    {
      "cell_type": "markdown",
      "source": [
        "PROGRAM TO FIND THE PRODUCT OF 2 NUMBERS"
      ],
      "metadata": {
        "id": "O5mIeuwE1K6v"
      }
    },
    {
      "cell_type": "code",
      "source": [
        "a=int(input(\"enter 1st number\"))\n",
        "b=int(input(\"enter 2nd number\"))\n",
        "product=a*b\n",
        "print(product)"
      ],
      "metadata": {
        "colab": {
          "base_uri": "https://localhost:8080/"
        },
        "id": "gB8Vn9fIxsVd",
        "outputId": "2a086f06-f327-4982-b743-1dd52534d30a"
      },
      "execution_count": 5,
      "outputs": [
        {
          "output_type": "stream",
          "name": "stdout",
          "text": [
            "enter 1st number4\n",
            "enter 2nd number6\n",
            "24\n"
          ]
        }
      ]
    },
    {
      "cell_type": "markdown",
      "source": [
        "PROGRAM TO FIND THE QUIOTIENT AND REMAINDER OF TWO NUMBERS"
      ],
      "metadata": {
        "id": "Jgr5F0911Qxr"
      }
    },
    {
      "cell_type": "code",
      "source": [
        "a=int(input(\"enter 1st number\"))\n",
        "b=int(input(\"enter 2nd number\"))\n",
        "remainder=a%b\n",
        "quotient=a/b\n",
        "print(remainder)\n",
        "print(quotient)"
      ],
      "metadata": {
        "colab": {
          "base_uri": "https://localhost:8080/"
        },
        "id": "GhkTWn5yyMb7",
        "outputId": "c5ba2c79-f1ca-41f9-cd4d-cca90dc07a57"
      },
      "execution_count": 7,
      "outputs": [
        {
          "output_type": "stream",
          "name": "stdout",
          "text": [
            "enter 1st number10\n",
            "enter 2nd number5\n",
            "0\n",
            "2.0\n"
          ]
        }
      ]
    },
    {
      "cell_type": "markdown",
      "source": [
        "PROGRAM TO FIND THE LENGHT OF A STRING"
      ],
      "metadata": {
        "id": "uSM5TewG1Z3P"
      }
    },
    {
      "cell_type": "code",
      "source": [
        "x=\"computer\"\n",
        "print(len(x))"
      ],
      "metadata": {
        "colab": {
          "base_uri": "https://localhost:8080/"
        },
        "id": "tCGCTLdFy0Da",
        "outputId": "61fe023b-a9a3-4135-af97-35e8b63765cd"
      },
      "execution_count": 9,
      "outputs": [
        {
          "output_type": "stream",
          "name": "stdout",
          "text": [
            "8\n"
          ]
        }
      ]
    },
    {
      "cell_type": "markdown",
      "source": [
        "PROGRAM TO FIND THE OCCURANCE OF A CHARACTER"
      ],
      "metadata": {
        "id": "GHv14jrs1juL"
      }
    },
    {
      "cell_type": "code",
      "source": [
        "x1=\"unexpected\"\n",
        "x1.count(\"e\")"
      ],
      "metadata": {
        "colab": {
          "base_uri": "https://localhost:8080/"
        },
        "id": "aa3MSQUXzPIc",
        "outputId": "c4daede0-8305-4a16-a83c-628ff739acfe"
      },
      "execution_count": 14,
      "outputs": [
        {
          "output_type": "execute_result",
          "data": {
            "text/plain": [
              "3"
            ]
          },
          "metadata": {},
          "execution_count": 14
        }
      ]
    },
    {
      "cell_type": "markdown",
      "source": [
        "PROGRAM TO CONVERT A STRING TO UPPERCASE"
      ],
      "metadata": {
        "id": "uWrKtAgm11iJ"
      }
    },
    {
      "cell_type": "code",
      "source": [
        "x2=\"computer\"\n",
        "x2.upper()"
      ],
      "metadata": {
        "colab": {
          "base_uri": "https://localhost:8080/",
          "height": 36
        },
        "id": "asSp0BmczuZX",
        "outputId": "7bc10e85-756c-4793-f6a2-188974d476df"
      },
      "execution_count": 17,
      "outputs": [
        {
          "output_type": "execute_result",
          "data": {
            "text/plain": [
              "'COMPUTER'"
            ],
            "application/vnd.google.colaboratory.intrinsic+json": {
              "type": "string"
            }
          },
          "metadata": {},
          "execution_count": 17
        }
      ]
    },
    {
      "cell_type": "markdown",
      "source": [
        "PROGRAM TO COVERT A STRING TO ALL LOWERCASE"
      ],
      "metadata": {
        "id": "s0E-yE9b2CY0"
      }
    },
    {
      "cell_type": "code",
      "source": [
        "x3=\"COMPUTER\"\n",
        "x3.lower()"
      ],
      "metadata": {
        "colab": {
          "base_uri": "https://localhost:8080/",
          "height": 36
        },
        "id": "720FOwHf0XZY",
        "outputId": "cdeef706-cc28-4861-b856-8ec4509c5406"
      },
      "execution_count": 18,
      "outputs": [
        {
          "output_type": "execute_result",
          "data": {
            "text/plain": [
              "'computer'"
            ],
            "application/vnd.google.colaboratory.intrinsic+json": {
              "type": "string"
            }
          },
          "metadata": {},
          "execution_count": 18
        }
      ]
    }
  ]
}