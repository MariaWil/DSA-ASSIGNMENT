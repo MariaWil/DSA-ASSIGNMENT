{
  "cells": [
    {
      "cell_type": "markdown",
      "source": [
        "1. Create a NumPy array of integers from 1 to 10"
      ],
      "metadata": {
        "id": "2dlice6P3x88"
      },
      "id": "2dlice6P3x88"
    },
    {
      "cell_type": "code",
      "execution_count": 54,
      "id": "a05f8692",
      "metadata": {
        "colab": {
          "base_uri": "https://localhost:8080/"
        },
        "id": "a05f8692",
        "outputId": "7d42ebce-da3e-4777-9ca3-801a14542aea"
      },
      "outputs": [
        {
          "output_type": "execute_result",
          "data": {
            "text/plain": [
              "array([ 1,  2,  3,  4,  5,  6,  7,  8,  9, 10])"
            ]
          },
          "metadata": {},
          "execution_count": 54
        }
      ],
      "source": [
        "import numpy as np\n",
        "x=np.arange(1,11)\n",
        "x"
      ]
    },
    {
      "cell_type": "markdown",
      "source": [
        "2. Create a 2x3 NumPy array filled with zeros."
      ],
      "metadata": {
        "id": "RNx5sn0839Kp"
      },
      "id": "RNx5sn0839Kp"
    },
    {
      "cell_type": "code",
      "execution_count": 55,
      "id": "91bcdef1",
      "metadata": {
        "colab": {
          "base_uri": "https://localhost:8080/"
        },
        "id": "91bcdef1",
        "outputId": "f873c071-05c8-4b44-8832-06ec28a4529f"
      },
      "outputs": [
        {
          "output_type": "execute_result",
          "data": {
            "text/plain": [
              "array([[0., 0., 0.],\n",
              "       [0., 0., 0.]])"
            ]
          },
          "metadata": {},
          "execution_count": 55
        }
      ],
      "source": [
        "y=np.zeros([2,3])\n",
        "y"
      ]
    },
    {
      "cell_type": "markdown",
      "source": [
        "3. Create a NumPy array of even numbers from 2 to 20."
      ],
      "metadata": {
        "id": "HZzzOXXw4H-Q"
      },
      "id": "HZzzOXXw4H-Q"
    },
    {
      "cell_type": "code",
      "execution_count": 56,
      "id": "2e051f02",
      "metadata": {
        "colab": {
          "base_uri": "https://localhost:8080/"
        },
        "id": "2e051f02",
        "outputId": "52c84802-594e-469d-9d50-679461422e76"
      },
      "outputs": [
        {
          "output_type": "execute_result",
          "data": {
            "text/plain": [
              "array([ 2,  4,  6,  8, 10, 12, 14, 16, 18, 20])"
            ]
          },
          "metadata": {},
          "execution_count": 56
        }
      ],
      "source": [
        "y=np.arange(2,22,2)\n",
        "y"
      ]
    },
    {
      "cell_type": "markdown",
      "source": [
        "4. Given two NumPy arrays, arr1 = np.array([1, 2, 3]) and arr2 = np.array([4,\n",
        "5, 6]), perform element-wise addition, subtraction, multiplication, and\n",
        "division between the two arrays."
      ],
      "metadata": {
        "id": "xnlmk39v4Keh"
      },
      "id": "xnlmk39v4Keh"
    },
    {
      "cell_type": "code",
      "execution_count": 57,
      "id": "6daaa6b5",
      "metadata": {
        "colab": {
          "base_uri": "https://localhost:8080/"
        },
        "id": "6daaa6b5",
        "outputId": "7592e443-eac0-4dd4-eaac-4fb360addc75"
      },
      "outputs": [
        {
          "output_type": "execute_result",
          "data": {
            "text/plain": [
              "array([5, 7, 9])"
            ]
          },
          "metadata": {},
          "execution_count": 57
        }
      ],
      "source": [
        "arr1=np.array([1,2,3])\n",
        "arr2=([4,5,6])\n",
        "arr3=arr1+arr2\n",
        "arr3"
      ]
    },
    {
      "cell_type": "code",
      "execution_count": 58,
      "id": "814615ef",
      "metadata": {
        "colab": {
          "base_uri": "https://localhost:8080/"
        },
        "id": "814615ef",
        "outputId": "6d2cbed7-5db1-477f-89fc-c7913cd61b7b"
      },
      "outputs": [
        {
          "output_type": "execute_result",
          "data": {
            "text/plain": [
              "array([3, 3, 3])"
            ]
          },
          "metadata": {},
          "execution_count": 58
        }
      ],
      "source": [
        "arr2-arr1"
      ]
    },
    {
      "cell_type": "code",
      "execution_count": 59,
      "id": "54ef1b45",
      "metadata": {
        "colab": {
          "base_uri": "https://localhost:8080/"
        },
        "id": "54ef1b45",
        "outputId": "655e5285-0f74-47f9-e5dd-5b0da6b46088"
      },
      "outputs": [
        {
          "output_type": "execute_result",
          "data": {
            "text/plain": [
              "array([ 4, 10, 18])"
            ]
          },
          "metadata": {},
          "execution_count": 59
        }
      ],
      "source": [
        "arr1*arr2"
      ]
    },
    {
      "cell_type": "code",
      "execution_count": 60,
      "id": "95649f8c",
      "metadata": {
        "colab": {
          "base_uri": "https://localhost:8080/"
        },
        "id": "95649f8c",
        "outputId": "90af78f5-cb0a-416a-e7c6-e1a298ecde9d"
      },
      "outputs": [
        {
          "output_type": "execute_result",
          "data": {
            "text/plain": [
              "array([0.25, 0.4 , 0.5 ])"
            ]
          },
          "metadata": {},
          "execution_count": 60
        }
      ],
      "source": [
        "arr1/arr2"
      ]
    },
    {
      "cell_type": "markdown",
      "source": [
        "5. Compute the mean, median, and standard deviation of a NumPy array\n",
        "containing 100 random numbers."
      ],
      "metadata": {
        "id": "Z8eaeakx9f8Z"
      },
      "id": "Z8eaeakx9f8Z"
    },
    {
      "cell_type": "code",
      "source": [
        "z=np.random.rand(100)\n",
        "z"
      ],
      "metadata": {
        "colab": {
          "base_uri": "https://localhost:8080/"
        },
        "id": "oW8tkESk9erh",
        "outputId": "dc5f3012-88db-4b1d-fdc5-0ceca713409f"
      },
      "id": "oW8tkESk9erh",
      "execution_count": 62,
      "outputs": [
        {
          "output_type": "execute_result",
          "data": {
            "text/plain": [
              "array([0.70912598, 0.78030306, 0.33291861, 0.95201581, 0.99947203,\n",
              "       0.17077681, 0.69187163, 0.96528184, 0.3550944 , 0.01216076,\n",
              "       0.76255742, 0.74370764, 0.66771961, 0.30150352, 0.92911127,\n",
              "       0.77092062, 0.67173696, 0.4222238 , 0.14290332, 0.14221719,\n",
              "       0.46979664, 0.84724016, 0.91978304, 0.079527  , 0.35583063,\n",
              "       0.36578175, 0.17874238, 0.61477927, 0.83855703, 0.71398639,\n",
              "       0.39606322, 0.85847145, 0.55830027, 0.61175713, 0.88936736,\n",
              "       0.75950578, 0.73537011, 0.90917593, 0.90613884, 0.93283109,\n",
              "       0.84975715, 0.14989263, 0.20323045, 0.42378695, 0.73443611,\n",
              "       0.13969788, 0.44386351, 0.41860227, 0.17928089, 0.97311701,\n",
              "       0.2431803 , 0.92037383, 0.02897528, 0.66746855, 0.87530335,\n",
              "       0.80842759, 0.20852054, 0.2955043 , 0.90019475, 0.74264704,\n",
              "       0.00731582, 0.69570504, 0.7523137 , 0.66606982, 0.48298565,\n",
              "       0.77131829, 0.12247511, 0.26586393, 0.98683881, 0.12630588,\n",
              "       0.33164234, 0.1310609 , 0.81726973, 0.32388801, 0.50699856,\n",
              "       0.92147499, 0.87104471, 0.58390246, 0.99411118, 0.00313562,\n",
              "       0.31700185, 0.29712277, 0.62846696, 0.97188245, 0.31705499,\n",
              "       0.51185075, 0.5393624 , 0.19119248, 0.86274129, 0.46607799,\n",
              "       0.80159445, 0.34796604, 0.16417793, 0.3555391 , 0.83135769,\n",
              "       0.66620601, 0.27565672, 0.60785664, 0.96967795, 0.53349665])"
            ]
          },
          "metadata": {},
          "execution_count": 62
        }
      ]
    },
    {
      "cell_type": "code",
      "source": [
        "np.mean(z)"
      ],
      "metadata": {
        "colab": {
          "base_uri": "https://localhost:8080/"
        },
        "id": "kGFHbBGb-Ew1",
        "outputId": "8eb32973-f0da-4cbc-afab-ccc7bf6b6982"
      },
      "id": "kGFHbBGb-Ew1",
      "execution_count": 63,
      "outputs": [
        {
          "output_type": "execute_result",
          "data": {
            "text/plain": [
              "0.5568889180036724"
            ]
          },
          "metadata": {},
          "execution_count": 63
        }
      ]
    },
    {
      "cell_type": "code",
      "source": [
        "np.median(z)"
      ],
      "metadata": {
        "colab": {
          "base_uri": "https://localhost:8080/"
        },
        "id": "CGW9zSiO-QSq",
        "outputId": "d12a5a82-f415-4801-ba2b-9e421e5a04c6"
      },
      "id": "CGW9zSiO-QSq",
      "execution_count": 64,
      "outputs": [
        {
          "output_type": "execute_result",
          "data": {
            "text/plain": [
              "0.6098068822252463"
            ]
          },
          "metadata": {},
          "execution_count": 64
        }
      ]
    },
    {
      "cell_type": "code",
      "source": [
        "np.std(z)"
      ],
      "metadata": {
        "colab": {
          "base_uri": "https://localhost:8080/"
        },
        "id": "T6hj6M8u-Vnk",
        "outputId": "401ea3a6-2ab4-4021-832f-0a6cb9a147c2"
      },
      "id": "T6hj6M8u-Vnk",
      "execution_count": 65,
      "outputs": [
        {
          "output_type": "execute_result",
          "data": {
            "text/plain": [
              "0.29487164902236596"
            ]
          },
          "metadata": {},
          "execution_count": 65
        }
      ]
    },
    {
      "cell_type": "markdown",
      "source": [
        "6. Reshape a 1D NumPy array of 12 random elements into a 2D array with a\n",
        "shape of (3, 4)."
      ],
      "metadata": {
        "id": "yUsgvb5s4S3S"
      },
      "id": "yUsgvb5s4S3S"
    },
    {
      "cell_type": "code",
      "execution_count": 13,
      "id": "9e9aeff8",
      "metadata": {
        "colab": {
          "base_uri": "https://localhost:8080/"
        },
        "id": "9e9aeff8",
        "outputId": "f082fa1a-f753-4e52-a31e-2831d96f5808"
      },
      "outputs": [
        {
          "output_type": "execute_result",
          "data": {
            "text/plain": [
              "array([0.53643377, 0.08040385, 0.05815262, 0.53086394, 0.84902669,\n",
              "       0.66934486, 0.73946167, 0.10708231, 0.22179769, 0.07776664,\n",
              "       0.85243725, 0.63703351])"
            ]
          },
          "metadata": {},
          "execution_count": 13
        }
      ],
      "source": [
        "w=np.random.rand(12)\n",
        "w"
      ]
    },
    {
      "cell_type": "code",
      "execution_count": 19,
      "id": "74d5e98b",
      "metadata": {
        "colab": {
          "base_uri": "https://localhost:8080/"
        },
        "id": "74d5e98b",
        "outputId": "d849126c-66f1-4163-db30-79eb83a4c82e"
      },
      "outputs": [
        {
          "output_type": "execute_result",
          "data": {
            "text/plain": [
              "array([[0.53643377, 0.08040385, 0.05815262, 0.53086394],\n",
              "       [0.84902669, 0.66934486, 0.73946167, 0.10708231],\n",
              "       [0.22179769, 0.07776664, 0.85243725, 0.63703351]])"
            ]
          },
          "metadata": {},
          "execution_count": 19
        }
      ],
      "source": [
        "w.reshape(3,4)\n"
      ]
    },
    {
      "cell_type": "markdown",
      "source": [
        "7. Given a NumPy array arr = np.array([1, 2, 3, 4, 5]), square each element in\n",
        "the array using NumPy functions."
      ],
      "metadata": {
        "id": "1uPi2RNm4i_6"
      },
      "id": "1uPi2RNm4i_6"
    },
    {
      "cell_type": "code",
      "execution_count": 27,
      "id": "056d3c4b",
      "metadata": {
        "colab": {
          "base_uri": "https://localhost:8080/"
        },
        "id": "056d3c4b",
        "outputId": "c2d2985a-0928-42cf-cade-6b1db8efce27"
      },
      "outputs": [
        {
          "output_type": "execute_result",
          "data": {
            "text/plain": [
              "array([1, 2, 3, 4, 5])"
            ]
          },
          "metadata": {},
          "execution_count": 27
        }
      ],
      "source": [
        "j= np.array([1, 2, 3, 4, 5])\n",
        "j"
      ]
    },
    {
      "cell_type": "code",
      "execution_count": 28,
      "id": "4e6dc987",
      "metadata": {
        "colab": {
          "base_uri": "https://localhost:8080/"
        },
        "id": "4e6dc987",
        "outputId": "f40cb398-8a3d-405a-b1e0-1310454542d0"
      },
      "outputs": [
        {
          "output_type": "execute_result",
          "data": {
            "text/plain": [
              "array([ 1,  4,  9, 16, 25])"
            ]
          },
          "metadata": {},
          "execution_count": 28
        }
      ],
      "source": [
        "np.square(j)"
      ]
    },
    {
      "cell_type": "markdown",
      "source": [
        "8. Create a 5x5 identity matrix using NumPy"
      ],
      "metadata": {
        "id": "VtK2nkdA5CIN"
      },
      "id": "VtK2nkdA5CIN"
    },
    {
      "cell_type": "code",
      "execution_count": 30,
      "id": "bdd13a3e",
      "metadata": {
        "colab": {
          "base_uri": "https://localhost:8080/"
        },
        "id": "bdd13a3e",
        "outputId": "e39384c3-29bc-4332-d201-12883873be08"
      },
      "outputs": [
        {
          "output_type": "execute_result",
          "data": {
            "text/plain": [
              "array([[1., 0., 0., 0., 0.],\n",
              "       [0., 1., 0., 0., 0.],\n",
              "       [0., 0., 1., 0., 0.],\n",
              "       [0., 0., 0., 1., 0.],\n",
              "       [0., 0., 0., 0., 1.]])"
            ]
          },
          "metadata": {},
          "execution_count": 30
        }
      ],
      "source": [
        "i=np.eye(5,5)\n",
        "i"
      ]
    },
    {
      "cell_type": "markdown",
      "source": [
        "9. Calculate the dot product of two NumPy arrays, a = np.array([1, 2, 3]) and\n",
        "b = np.array([4, 5, 6])."
      ],
      "metadata": {
        "id": "0lZQBYg25HhN"
      },
      "id": "0lZQBYg25HhN"
    },
    {
      "cell_type": "code",
      "execution_count": 31,
      "id": "4e35eae9",
      "metadata": {
        "colab": {
          "base_uri": "https://localhost:8080/"
        },
        "id": "4e35eae9",
        "outputId": "8e3fc008-7844-49b8-a8c4-0ab8d7b2e56a"
      },
      "outputs": [
        {
          "output_type": "execute_result",
          "data": {
            "text/plain": [
              "array([1, 2, 3])"
            ]
          },
          "metadata": {},
          "execution_count": 31
        }
      ],
      "source": [
        "a = np.array([1, 2, 3])\n",
        "a"
      ]
    },
    {
      "cell_type": "code",
      "execution_count": 32,
      "id": "fc34a061",
      "metadata": {
        "colab": {
          "base_uri": "https://localhost:8080/"
        },
        "id": "fc34a061",
        "outputId": "bd900eb5-e818-4298-efc7-83c6c80307af"
      },
      "outputs": [
        {
          "output_type": "execute_result",
          "data": {
            "text/plain": [
              "array([4, 5, 6])"
            ]
          },
          "metadata": {},
          "execution_count": 32
        }
      ],
      "source": [
        "b = np.array([4, 5, 6])\n",
        "b"
      ]
    },
    {
      "cell_type": "code",
      "execution_count": 33,
      "id": "c18402e4",
      "metadata": {
        "colab": {
          "base_uri": "https://localhost:8080/"
        },
        "id": "c18402e4",
        "outputId": "32f5a521-f030-405c-e131-02e9b33ab539"
      },
      "outputs": [
        {
          "output_type": "execute_result",
          "data": {
            "text/plain": [
              "32"
            ]
          },
          "metadata": {},
          "execution_count": 33
        }
      ],
      "source": [
        "a.dot(b)\n"
      ]
    },
    {
      "cell_type": "markdown",
      "source": [
        "10.Find the index of the maximum value and the index of the minimum value\n",
        "in a NumPy array."
      ],
      "metadata": {
        "id": "O89olfH65SIQ"
      },
      "id": "O89olfH65SIQ"
    },
    {
      "cell_type": "code",
      "execution_count": 34,
      "id": "82008954",
      "metadata": {
        "colab": {
          "base_uri": "https://localhost:8080/"
        },
        "id": "82008954",
        "outputId": "9df24d40-7301-450c-fcc2-66addd96759a"
      },
      "outputs": [
        {
          "output_type": "execute_result",
          "data": {
            "text/plain": [
              "array([[ 1,  2,  3],\n",
              "       [63, 72, 94],\n",
              "       [78, 56, 39]])"
            ]
          },
          "metadata": {},
          "execution_count": 34
        }
      ],
      "source": [
        "d=np.array([[1,2,3],[63,72,94],[78,56,39]])\n",
        "d"
      ]
    },
    {
      "cell_type": "code",
      "execution_count": 35,
      "id": "4eda3281",
      "metadata": {
        "colab": {
          "base_uri": "https://localhost:8080/"
        },
        "id": "4eda3281",
        "outputId": "8675930d-bab1-44eb-bd89-eeaa4f089f01"
      },
      "outputs": [
        {
          "output_type": "execute_result",
          "data": {
            "text/plain": [
              "94"
            ]
          },
          "metadata": {},
          "execution_count": 35
        }
      ],
      "source": [
        "d.max()"
      ]
    },
    {
      "cell_type": "code",
      "execution_count": 36,
      "id": "805933b2",
      "metadata": {
        "colab": {
          "base_uri": "https://localhost:8080/"
        },
        "id": "805933b2",
        "outputId": "10113827-d5eb-41bd-cd6f-675423e75af4"
      },
      "outputs": [
        {
          "output_type": "execute_result",
          "data": {
            "text/plain": [
              "5"
            ]
          },
          "metadata": {},
          "execution_count": 36
        }
      ],
      "source": [
        "d.argmax()"
      ]
    },
    {
      "cell_type": "code",
      "execution_count": 37,
      "id": "8dd610a6",
      "metadata": {
        "colab": {
          "base_uri": "https://localhost:8080/"
        },
        "id": "8dd610a6",
        "outputId": "3397f18e-8925-408f-d1fe-fa2778519734"
      },
      "outputs": [
        {
          "output_type": "execute_result",
          "data": {
            "text/plain": [
              "1"
            ]
          },
          "metadata": {},
          "execution_count": 37
        }
      ],
      "source": [
        "d.min()"
      ]
    },
    {
      "cell_type": "code",
      "execution_count": 38,
      "id": "9b94ed5d",
      "metadata": {
        "colab": {
          "base_uri": "https://localhost:8080/"
        },
        "id": "9b94ed5d",
        "outputId": "188f23a2-2c01-4d8a-f636-b32881a77ab6"
      },
      "outputs": [
        {
          "output_type": "execute_result",
          "data": {
            "text/plain": [
              "0"
            ]
          },
          "metadata": {},
          "execution_count": 38
        }
      ],
      "source": [
        "d.argmin()"
      ]
    },
    {
      "cell_type": "markdown",
      "source": [
        "11.Concatenate two random NumPy arrays horizontally and vertically"
      ],
      "metadata": {
        "id": "c-T3DbOm5Vxn"
      },
      "id": "c-T3DbOm5Vxn"
    },
    {
      "cell_type": "code",
      "execution_count": 140,
      "id": "2d2ecaa4",
      "metadata": {
        "colab": {
          "base_uri": "https://localhost:8080/"
        },
        "id": "2d2ecaa4",
        "outputId": "5f3415b8-0cc3-4e6f-f5e1-df1ea284253d"
      },
      "outputs": [
        {
          "output_type": "execute_result",
          "data": {
            "text/plain": [
              "array([[0.86344508, 0.93839164, 0.76137847, 0.81054201, 0.55174282],\n",
              "       [0.89593106, 0.93244737, 0.50264994, 0.51850384, 0.38516046],\n",
              "       [0.68624418, 0.11895349, 0.89916256, 0.41390013, 0.10086999],\n",
              "       [0.0549981 , 0.11040807, 0.37111978, 0.28819988, 0.17882996],\n",
              "       [0.94550936, 0.54087281, 0.61956861, 0.56973398, 0.47388244]])"
            ]
          },
          "metadata": {},
          "execution_count": 140
        }
      ],
      "source": [
        "c=np.random.rand(5,5)\n",
        "c"
      ]
    },
    {
      "cell_type": "code",
      "execution_count": 141,
      "id": "55f9b06b",
      "metadata": {
        "colab": {
          "base_uri": "https://localhost:8080/"
        },
        "id": "55f9b06b",
        "outputId": "ecd249d3-2b6a-4166-e437-09767780a173"
      },
      "outputs": [
        {
          "output_type": "execute_result",
          "data": {
            "text/plain": [
              "array([[0.53071434, 0.99028321, 0.70774676, 0.76857949, 0.08733433],\n",
              "       [0.66512906, 0.18029746, 0.97492871, 0.10256519, 0.87563226],\n",
              "       [0.58689971, 0.6871752 , 0.23187651, 0.97402244, 0.09665596],\n",
              "       [0.93231717, 0.31043587, 0.94027071, 0.61370114, 0.92289026],\n",
              "       [0.99551375, 0.80998564, 0.34115663, 0.55386554, 0.61573223]])"
            ]
          },
          "metadata": {},
          "execution_count": 141
        }
      ],
      "source": [
        "d=np.random.rand(5,5)\n",
        "d"
      ]
    },
    {
      "cell_type": "code",
      "execution_count": 142,
      "id": "c8257428",
      "metadata": {
        "colab": {
          "base_uri": "https://localhost:8080/"
        },
        "id": "c8257428",
        "outputId": "2a1306e0-e713-4f70-c793-9e89d575238f"
      },
      "outputs": [
        {
          "output_type": "execute_result",
          "data": {
            "text/plain": [
              "array([[0.86344508, 0.93839164, 0.76137847, 0.81054201, 0.55174282],\n",
              "       [0.89593106, 0.93244737, 0.50264994, 0.51850384, 0.38516046],\n",
              "       [0.68624418, 0.11895349, 0.89916256, 0.41390013, 0.10086999],\n",
              "       [0.0549981 , 0.11040807, 0.37111978, 0.28819988, 0.17882996],\n",
              "       [0.94550936, 0.54087281, 0.61956861, 0.56973398, 0.47388244],\n",
              "       [0.53071434, 0.99028321, 0.70774676, 0.76857949, 0.08733433],\n",
              "       [0.66512906, 0.18029746, 0.97492871, 0.10256519, 0.87563226],\n",
              "       [0.58689971, 0.6871752 , 0.23187651, 0.97402244, 0.09665596],\n",
              "       [0.93231717, 0.31043587, 0.94027071, 0.61370114, 0.92289026],\n",
              "       [0.99551375, 0.80998564, 0.34115663, 0.55386554, 0.61573223]])"
            ]
          },
          "metadata": {},
          "execution_count": 142
        }
      ],
      "source": [
        "np.concatenate((c,d),axis=0)"
      ]
    },
    {
      "cell_type": "code",
      "execution_count": 144,
      "id": "33285bd2",
      "metadata": {
        "colab": {
          "base_uri": "https://localhost:8080/"
        },
        "id": "33285bd2",
        "outputId": "30602233-6b01-4138-df10-c2a59be4c3e5"
      },
      "outputs": [
        {
          "output_type": "execute_result",
          "data": {
            "text/plain": [
              "array([[0.86344508, 0.93839164, 0.76137847, 0.81054201, 0.55174282,\n",
              "        0.53071434, 0.99028321, 0.70774676, 0.76857949, 0.08733433],\n",
              "       [0.89593106, 0.93244737, 0.50264994, 0.51850384, 0.38516046,\n",
              "        0.66512906, 0.18029746, 0.97492871, 0.10256519, 0.87563226],\n",
              "       [0.68624418, 0.11895349, 0.89916256, 0.41390013, 0.10086999,\n",
              "        0.58689971, 0.6871752 , 0.23187651, 0.97402244, 0.09665596],\n",
              "       [0.0549981 , 0.11040807, 0.37111978, 0.28819988, 0.17882996,\n",
              "        0.93231717, 0.31043587, 0.94027071, 0.61370114, 0.92289026],\n",
              "       [0.94550936, 0.54087281, 0.61956861, 0.56973398, 0.47388244,\n",
              "        0.99551375, 0.80998564, 0.34115663, 0.55386554, 0.61573223]])"
            ]
          },
          "metadata": {},
          "execution_count": 144
        }
      ],
      "source": [
        "np.concatenate((c,d),axis=1)"
      ]
    },
    {
      "cell_type": "markdown",
      "source": [
        "12.Given a 2D NumPy array, calculate the sum of each row and each column\n",
        "separately."
      ],
      "metadata": {
        "id": "wv9svGLj5g4y"
      },
      "id": "wv9svGLj5g4y"
    },
    {
      "cell_type": "code",
      "execution_count": 66,
      "id": "79310b4e",
      "metadata": {
        "colab": {
          "base_uri": "https://localhost:8080/"
        },
        "id": "79310b4e",
        "outputId": "21c0977a-5cd9-4aff-d1b2-0718e0d9920a"
      },
      "outputs": [
        {
          "output_type": "execute_result",
          "data": {
            "text/plain": [
              "array([[ 1,  2,  3],\n",
              "       [63, 72, 94],\n",
              "       [78, 56, 39],\n",
              "       [23, 66, 48]])"
            ]
          },
          "metadata": {},
          "execution_count": 66
        }
      ],
      "source": [
        "d=np.array([[1,2,3],[63,72,94],[78,56,39],[23,66,48]])\n",
        "d"
      ]
    },
    {
      "cell_type": "code",
      "execution_count": 67,
      "id": "04be67d3",
      "metadata": {
        "colab": {
          "base_uri": "https://localhost:8080/"
        },
        "id": "04be67d3",
        "outputId": "8c26bd8d-876b-4c8f-a89f-4407befaa689"
      },
      "outputs": [
        {
          "output_type": "execute_result",
          "data": {
            "text/plain": [
              "array([165, 196, 184])"
            ]
          },
          "metadata": {},
          "execution_count": 67
        }
      ],
      "source": [
        "d.sum(0)"
      ]
    },
    {
      "cell_type": "code",
      "execution_count": 68,
      "id": "a743fd5d",
      "metadata": {
        "colab": {
          "base_uri": "https://localhost:8080/"
        },
        "id": "a743fd5d",
        "outputId": "6424cf0e-e0e1-4fd1-ae3b-8c5bd5bf35a1"
      },
      "outputs": [
        {
          "output_type": "execute_result",
          "data": {
            "text/plain": [
              "array([  6, 229, 173, 137])"
            ]
          },
          "metadata": {},
          "execution_count": 68
        }
      ],
      "source": [
        "d.sum(1)"
      ]
    },
    {
      "cell_type": "markdown",
      "source": [
        "13.Find the common elements between two NumPy arrays."
      ],
      "metadata": {
        "id": "n4L8XIxb5t7t"
      },
      "id": "n4L8XIxb5t7t"
    },
    {
      "cell_type": "code",
      "execution_count": null,
      "id": "0fc8165b",
      "metadata": {
        "id": "0fc8165b",
        "outputId": "be0de671-cebc-4897-8b3f-604d4dabe430"
      },
      "outputs": [
        {
          "data": {
            "text/plain": [
              "array([[ 1,  2,  3],\n",
              "       [63, 72, 94],\n",
              "       [78, 56, 39],\n",
              "       [23, 66, 48]])"
            ]
          },
          "execution_count": 62,
          "metadata": {},
          "output_type": "execute_result"
        }
      ],
      "source": [
        "d=np.array([[1,2,3],[63,72,94],[78,56,39],[23,66,48]])\n",
        "d"
      ]
    },
    {
      "cell_type": "code",
      "execution_count": 70,
      "id": "28791187",
      "metadata": {
        "colab": {
          "base_uri": "https://localhost:8080/"
        },
        "id": "28791187",
        "outputId": "309a063d-3fc8-4236-f6a1-94986e84a7a7"
      },
      "outputs": [
        {
          "output_type": "execute_result",
          "data": {
            "text/plain": [
              "array([[41, 26, 38],\n",
              "       [63, 92, 34],\n",
              "       [78, 56, 79],\n",
              "       [53, 66, 48]])"
            ]
          },
          "metadata": {},
          "execution_count": 70
        }
      ],
      "source": [
        "p=np.array([[41,26,38],[63,92,34],[78,56,79],[53,66,48]])\n",
        "p"
      ]
    },
    {
      "cell_type": "code",
      "execution_count": 72,
      "id": "8d6826b2",
      "metadata": {
        "colab": {
          "base_uri": "https://localhost:8080/"
        },
        "id": "8d6826b2",
        "outputId": "418ff469-dd7d-4ede-ffdf-f3b659f94c06"
      },
      "outputs": [
        {
          "output_type": "execute_result",
          "data": {
            "text/plain": [
              "array([48, 56, 63, 66, 78])"
            ]
          },
          "metadata": {},
          "execution_count": 72
        }
      ],
      "source": [
        "np.intersect1d(p,d)"
      ]
    },
    {
      "cell_type": "markdown",
      "source": [
        "14.Replace all negative values in a NumPy array with zeros.\n"
      ],
      "metadata": {
        "id": "s1UJiXa2524E"
      },
      "id": "s1UJiXa2524E"
    },
    {
      "cell_type": "code",
      "execution_count": null,
      "id": "c4eff87a",
      "metadata": {
        "id": "c4eff87a",
        "outputId": "b7ecfd85-c361-4a88-ab23-75af9a0dedf5"
      },
      "outputs": [
        {
          "data": {
            "text/plain": [
              "array([[ 41, -26, -38],\n",
              "       [-63,  92,  34]])"
            ]
          },
          "execution_count": 75,
          "metadata": {},
          "output_type": "execute_result"
        }
      ],
      "source": [
        "p=np.array([[41,-26,-38],[-63,92,34]])\n",
        "p"
      ]
    },
    {
      "cell_type": "code",
      "execution_count": null,
      "id": "bad2e01b",
      "metadata": {
        "id": "bad2e01b",
        "outputId": "5698c2d6-e155-4a7e-f75d-daf82c7c931e"
      },
      "outputs": [
        {
          "data": {
            "text/plain": [
              "array([[41,  0,  0],\n",
              "       [ 0, 92, 34]])"
            ]
          },
          "execution_count": 76,
          "metadata": {},
          "output_type": "execute_result"
        }
      ],
      "source": [
        "p[p<0]=0\n",
        "p"
      ]
    },
    {
      "cell_type": "markdown",
      "source": [
        "15.Create a NumPy array with random integers between 1 and 100 and then\n",
        "sort it in ascending order."
      ],
      "metadata": {
        "id": "VjOGzP6k5729"
      },
      "id": "VjOGzP6k5729"
    },
    {
      "cell_type": "code",
      "execution_count": null,
      "id": "edb91399",
      "metadata": {
        "id": "edb91399",
        "outputId": "d2413930-586a-4248-f3dd-0150c36676f4"
      },
      "outputs": [
        {
          "data": {
            "text/plain": [
              "array([ 91,  45,  89,   8,  93,  71,  28,  26,  32,  12,  29,  74,  47,\n",
              "        15,  16,  60,  85,  55,  87,  36,  17,  29,  12, 100,  78,  67,\n",
              "        33,  52,  58,  57,  36,  38,  61,   5,  57,  90,  31,  20,  20,\n",
              "        69,  59,  86,  17,   9,  88,  46,  40,  63,  44,  74,  12,  62,\n",
              "        37,  91,  32,   8,  84,  94,  27,   6,  66,  93, 100,   7,  51,\n",
              "        36,  37,  82,  30,  13,  69,  55,  66,  91,  89,  32,  42,  83,\n",
              "        22,   6,  47,  30,  20,  28,  19,   7,  16,  91,  67,  85,  98,\n",
              "         6,   9,  25,  23,  80,  73,   8,  59,  50,  60])"
            ]
          },
          "execution_count": 79,
          "metadata": {},
          "output_type": "execute_result"
        }
      ],
      "source": [
        "u=np.random.randint(1,101,101)\n",
        "u"
      ]
    },
    {
      "cell_type": "code",
      "execution_count": null,
      "id": "44f4d4b6",
      "metadata": {
        "id": "44f4d4b6",
        "outputId": "dea22304-3010-4db6-bce1-35a7cf5d6ff4"
      },
      "outputs": [
        {
          "data": {
            "text/plain": [
              "array([  5,   6,   6,   6,   7,   7,   8,   8,   8,   9,   9,  12,  12,\n",
              "        12,  13,  15,  16,  16,  17,  17,  19,  20,  20,  20,  22,  23,\n",
              "        25,  26,  27,  28,  28,  29,  29,  30,  30,  31,  32,  32,  32,\n",
              "        33,  36,  36,  36,  37,  37,  38,  40,  42,  44,  45,  46,  47,\n",
              "        47,  50,  51,  52,  55,  55,  57,  57,  58,  59,  59,  60,  60,\n",
              "        61,  62,  63,  66,  66,  67,  67,  69,  69,  71,  73,  74,  74,\n",
              "        78,  80,  82,  83,  84,  85,  85,  86,  87,  88,  89,  89,  90,\n",
              "        91,  91,  91,  91,  93,  93,  94,  98, 100, 100])"
            ]
          },
          "execution_count": 81,
          "metadata": {},
          "output_type": "execute_result"
        }
      ],
      "source": [
        "u.sort()\n",
        "u"
      ]
    },
    {
      "cell_type": "markdown",
      "source": [
        "16.Calculate the element-wise absolute difference between two NumPy\n",
        "arrays."
      ],
      "metadata": {
        "id": "mC-ATA126CC-"
      },
      "id": "mC-ATA126CC-"
    },
    {
      "cell_type": "code",
      "execution_count": 84,
      "id": "c3961580",
      "metadata": {
        "colab": {
          "base_uri": "https://localhost:8080/"
        },
        "id": "c3961580",
        "outputId": "12df5a61-d764-4ce1-d90c-0af5468b7f77"
      },
      "outputs": [
        {
          "output_type": "execute_result",
          "data": {
            "text/plain": [
              "array([[916, 502, 309],\n",
              "       [683, 772, 904],\n",
              "       [788, 596, 309],\n",
              "       [243, 766, 948]])"
            ]
          },
          "metadata": {},
          "execution_count": 84
        }
      ],
      "source": [
        "d=np.array([[916,502,309],[683,772,904],[788,596,309],[243,766,948]])\n",
        "d"
      ]
    },
    {
      "cell_type": "code",
      "source": [
        "p=np.array([[41,726,398],[693,92,34],[78,56,79],[583,866,48]])\n",
        "p"
      ],
      "metadata": {
        "colab": {
          "base_uri": "https://localhost:8080/"
        },
        "id": "g71AXMiKAace",
        "outputId": "f93477f5-8cb4-419c-bea6-a0ac1423965a"
      },
      "id": "g71AXMiKAace",
      "execution_count": 87,
      "outputs": [
        {
          "output_type": "execute_result",
          "data": {
            "text/plain": [
              "array([[ 41, 726, 398],\n",
              "       [693,  92,  34],\n",
              "       [ 78,  56,  79],\n",
              "       [583, 866,  48]])"
            ]
          },
          "metadata": {},
          "execution_count": 87
        }
      ]
    },
    {
      "cell_type": "code",
      "source": [
        "z=d-p\n",
        "z\n"
      ],
      "metadata": {
        "colab": {
          "base_uri": "https://localhost:8080/"
        },
        "id": "S07756yMAemh",
        "outputId": "2d1d2df4-b9b5-48f8-ddea-ce033a9056ba"
      },
      "id": "S07756yMAemh",
      "execution_count": 89,
      "outputs": [
        {
          "output_type": "execute_result",
          "data": {
            "text/plain": [
              "array([[ 875, -224,  -89],\n",
              "       [ -10,  680,  870],\n",
              "       [ 710,  540,  230],\n",
              "       [-340, -100,  900]])"
            ]
          },
          "metadata": {},
          "execution_count": 89
        }
      ]
    },
    {
      "cell_type": "code",
      "source": [
        "np.absolute(z)"
      ],
      "metadata": {
        "colab": {
          "base_uri": "https://localhost:8080/"
        },
        "id": "L4AFo-KXAlC5",
        "outputId": "39a4ff3a-f083-4989-f0ba-7e33dbd4fe00"
      },
      "id": "L4AFo-KXAlC5",
      "execution_count": 90,
      "outputs": [
        {
          "output_type": "execute_result",
          "data": {
            "text/plain": [
              "array([[875, 224,  89],\n",
              "       [ 10, 680, 870],\n",
              "       [710, 540, 230],\n",
              "       [340, 100, 900]])"
            ]
          },
          "metadata": {},
          "execution_count": 90
        }
      ]
    },
    {
      "cell_type": "markdown",
      "source": [
        "17.Given a 2D NumPy array, extract the first row and the last column."
      ],
      "metadata": {
        "id": "ch_bNFmNEvv3"
      },
      "id": "ch_bNFmNEvv3"
    },
    {
      "cell_type": "code",
      "source": [
        "j=np.array([[875, 224,  89],\n",
        "       [ 10, 680, 870],\n",
        "       [710, 540, 230],\n",
        "       [340, 100, 900]])\n",
        "j"
      ],
      "metadata": {
        "colab": {
          "base_uri": "https://localhost:8080/"
        },
        "id": "T8q-AufTEd8X",
        "outputId": "45f139d3-f7b9-427f-dc58-172fa0f68eb5"
      },
      "id": "T8q-AufTEd8X",
      "execution_count": 93,
      "outputs": [
        {
          "output_type": "execute_result",
          "data": {
            "text/plain": [
              "array([[875, 224,  89],\n",
              "       [ 10, 680, 870],\n",
              "       [710, 540, 230],\n",
              "       [340, 100, 900]])"
            ]
          },
          "metadata": {},
          "execution_count": 93
        }
      ]
    },
    {
      "cell_type": "code",
      "source": [
        "j[0]"
      ],
      "metadata": {
        "colab": {
          "base_uri": "https://localhost:8080/"
        },
        "id": "bpzvRFHJEr9j",
        "outputId": "dd041479-60e9-47b1-a2d9-fdc432180ecc"
      },
      "id": "bpzvRFHJEr9j",
      "execution_count": 95,
      "outputs": [
        {
          "output_type": "execute_result",
          "data": {
            "text/plain": [
              "array([875, 224,  89])"
            ]
          },
          "metadata": {},
          "execution_count": 95
        }
      ]
    },
    {
      "cell_type": "code",
      "source": [
        "j[0:4,[2]]"
      ],
      "metadata": {
        "colab": {
          "base_uri": "https://localhost:8080/"
        },
        "id": "Uj2SLct-FQDC",
        "outputId": "d0320d54-cb9b-4081-cecf-bb649cdcd118"
      },
      "id": "Uj2SLct-FQDC",
      "execution_count": 100,
      "outputs": [
        {
          "output_type": "execute_result",
          "data": {
            "text/plain": [
              "array([[ 89],\n",
              "       [870],\n",
              "       [230],\n",
              "       [900]])"
            ]
          },
          "metadata": {},
          "execution_count": 100
        }
      ]
    },
    {
      "cell_type": "markdown",
      "source": [
        "18.Slice a 1D NumPy array to get every other element."
      ],
      "metadata": {
        "id": "yUoxYMIMF7ZN"
      },
      "id": "yUoxYMIMF7ZN"
    },
    {
      "cell_type": "code",
      "source": [
        "m=np.array([1,2,3,4,5,6,7,8,9])\n",
        "m"
      ],
      "metadata": {
        "colab": {
          "base_uri": "https://localhost:8080/"
        },
        "id": "XuuqMr-HQ2_s",
        "outputId": "d376f6b0-8751-4d13-8a24-9b25ab3af4df"
      },
      "id": "XuuqMr-HQ2_s",
      "execution_count": 145,
      "outputs": [
        {
          "output_type": "execute_result",
          "data": {
            "text/plain": [
              "array([1, 2, 3, 4, 5, 6, 7, 8, 9])"
            ]
          },
          "metadata": {},
          "execution_count": 145
        }
      ]
    },
    {
      "cell_type": "code",
      "source": [
        "m[::2]"
      ],
      "metadata": {
        "colab": {
          "base_uri": "https://localhost:8080/"
        },
        "id": "RihxYfOSRdn2",
        "outputId": "1fcc13a1-379f-4244-c1e7-a70eff4e65b5"
      },
      "id": "RihxYfOSRdn2",
      "execution_count": 146,
      "outputs": [
        {
          "output_type": "execute_result",
          "data": {
            "text/plain": [
              "array([1, 3, 5, 7, 9])"
            ]
          },
          "metadata": {},
          "execution_count": 146
        }
      ]
    },
    {
      "cell_type": "markdown",
      "source": [
        "19.Given a 2D NumPy array, extract a subarray consisting of the central 2x2\n",
        "elements."
      ],
      "metadata": {
        "id": "n95grFuLKpju"
      },
      "id": "n95grFuLKpju"
    },
    {
      "cell_type": "code",
      "source": [
        "j=np.array([[875, 224,  89,40],\n",
        "       [ 10, 680, 870,334],\n",
        "       [710, 540, 230,453],\n",
        "       [340, 100, 900,424]])\n",
        "j"
      ],
      "metadata": {
        "colab": {
          "base_uri": "https://localhost:8080/"
        },
        "id": "VxZDAGgbFa3P",
        "outputId": "07257474-cb65-42f5-8803-399c72c43f04"
      },
      "id": "VxZDAGgbFa3P",
      "execution_count": 102,
      "outputs": [
        {
          "output_type": "execute_result",
          "data": {
            "text/plain": [
              "array([[875, 224,  89,  40],\n",
              "       [ 10, 680, 870, 334],\n",
              "       [710, 540, 230, 453],\n",
              "       [340, 100, 900, 424]])"
            ]
          },
          "metadata": {},
          "execution_count": 102
        }
      ]
    },
    {
      "cell_type": "code",
      "source": [
        "subarray=j[1:3,[1,2]]\n",
        "subarray"
      ],
      "metadata": {
        "colab": {
          "base_uri": "https://localhost:8080/"
        },
        "id": "qcX2hIi3K9i6",
        "outputId": "c3c59a8c-e039-4694-b854-1ebb06737c1a"
      },
      "id": "qcX2hIi3K9i6",
      "execution_count": 104,
      "outputs": [
        {
          "output_type": "execute_result",
          "data": {
            "text/plain": [
              "array([[680, 870],\n",
              "       [540, 230]])"
            ]
          },
          "metadata": {},
          "execution_count": 104
        }
      ]
    },
    {
      "cell_type": "markdown",
      "source": [
        "20.Reverse a 1D NumPy array using slicing."
      ],
      "metadata": {
        "id": "yYQU0ZSzL4jN"
      },
      "id": "yYQU0ZSzL4jN"
    },
    {
      "cell_type": "code",
      "source": [
        "m=np.array([1,2,3,4,5,6,7,8,9])\n",
        "m"
      ],
      "metadata": {
        "colab": {
          "base_uri": "https://localhost:8080/"
        },
        "id": "Bb6RemHILTbi",
        "outputId": "56b0cf85-e61d-40ab-e2fb-83d594dedb16"
      },
      "id": "Bb6RemHILTbi",
      "execution_count": 123,
      "outputs": [
        {
          "output_type": "execute_result",
          "data": {
            "text/plain": [
              "array([1, 2, 3, 4, 5, 6, 7, 8, 9])"
            ]
          },
          "metadata": {},
          "execution_count": 123
        }
      ]
    },
    {
      "cell_type": "code",
      "source": [
        "j=m[::-1]\n",
        "j"
      ],
      "metadata": {
        "colab": {
          "base_uri": "https://localhost:8080/"
        },
        "id": "c6s2fejvMMB2",
        "outputId": "530c3258-97f1-42c4-f83d-b70d053c7212"
      },
      "id": "c6s2fejvMMB2",
      "execution_count": 135,
      "outputs": [
        {
          "output_type": "execute_result",
          "data": {
            "text/plain": [
              "array([9, 8, 7, 6, 5, 4, 3, 2, 1])"
            ]
          },
          "metadata": {},
          "execution_count": 135
        }
      ]
    },
    {
      "cell_type": "code",
      "source": [],
      "metadata": {
        "id": "6DHmWMMJMuz4"
      },
      "id": "6DHmWMMJMuz4",
      "execution_count": 126,
      "outputs": []
    }
  ],
  "metadata": {
    "kernelspec": {
      "display_name": "Python 3 (ipykernel)",
      "language": "python",
      "name": "python3"
    },
    "language_info": {
      "codemirror_mode": {
        "name": "ipython",
        "version": 3
      },
      "file_extension": ".py",
      "mimetype": "text/x-python",
      "name": "python",
      "nbconvert_exporter": "python",
      "pygments_lexer": "ipython3",
      "version": "3.11.5"
    },
    "colab": {
      "provenance": []
    }
  },
  "nbformat": 4,
  "nbformat_minor": 5
}